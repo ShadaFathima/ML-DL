{
  "nbformat": 4,
  "nbformat_minor": 0,
  "metadata": {
    "colab": {
      "provenance": [],
      "gpuType": "T4",
      "authorship_tag": "ABX9TyMboE8svWd/EeFWtE/P9OdW",
      "include_colab_link": true
    },
    "kernelspec": {
      "name": "python3",
      "display_name": "Python 3"
    },
    "language_info": {
      "name": "python"
    },
    "accelerator": "GPU"
  },
  "cells": [
    {
      "cell_type": "markdown",
      "metadata": {
        "id": "view-in-github",
        "colab_type": "text"
      },
      "source": [
        "<a href=\"https://colab.research.google.com/github/ShadaFathima/ML-DL/blob/main/CNN_implementation.ipynb\" target=\"_parent\"><img src=\"https://colab.research.google.com/assets/colab-badge.svg\" alt=\"Open In Colab\"/></a>"
      ]
    },
    {
      "cell_type": "code",
      "execution_count": null,
      "metadata": {
        "colab": {
          "base_uri": "https://localhost:8080/"
        },
        "id": "fZWa14WN6HIl",
        "outputId": "32cea869-1dbc-4e7b-a40c-649958cfd082"
      },
      "outputs": [
        {
          "output_type": "stream",
          "name": "stdout",
          "text": [
            "Mounted at /content/drive\n"
          ]
        }
      ],
      "source": [
        "from google.colab import drive\n",
        "drive.mount('/content/drive')"
      ]
    },
    {
      "cell_type": "code",
      "source": [
        "import os\n",
        "import numpy as np\n",
        "import matplotlib.pyplot as plt\n",
        "from PIL import Image\n",
        "from sklearn.metrics import classification_report, confusion_matrix"
      ],
      "metadata": {
        "id": "Wp2P4RPF6kV7"
      },
      "execution_count": null,
      "outputs": []
    },
    {
      "cell_type": "code",
      "source": [
        "import torch\n",
        "import torch.nn as nn\n",
        "import torch.optim as optim\n",
        "from torchvision import datasets, transforms\n",
        "from torch.utils.data import DataLoader, random_split"
      ],
      "metadata": {
        "id": "2-uqq92m6nUs"
      },
      "execution_count": null,
      "outputs": []
    },
    {
      "cell_type": "code",
      "source": [
        "# data_dir = '/content/drive/MyDrive/MGU_Workshop/Day1-FN/new'\n",
        "data_dir = '/content/drive/MyDrive/DL/covidData'\n",
        "img_size = 224\n",
        "batch_size = 16\n",
        "num_epochs = 100\n",
        "val_split = 0.2\n",
        "seed = 42"
      ],
      "metadata": {
        "id": "JeuXPhgD6qwd"
      },
      "execution_count": null,
      "outputs": []
    },
    {
      "cell_type": "code",
      "source": [
        "device = torch.device(\"cuda\" if torch.cuda.is_available() else \"cpu\")\n",
        "torch.manual_seed(seed)\n",
        "np.random.seed(seed)\n"
      ],
      "metadata": {
        "id": "V65k4yo47DBe"
      },
      "execution_count": null,
      "outputs": []
    },
    {
      "cell_type": "code",
      "source": [
        "# ─── Data Loading ───────────────────────────────────────────────────────\n",
        "transform = transforms.Compose([\n",
        "    transforms.Resize((img_size, img_size)),\n",
        "    transforms.Grayscale(),\n",
        "    transforms.ToTensor(),\n",
        "    transforms.Normalize([0.5], [0.5])\n",
        "])\n"
      ],
      "metadata": {
        "id": "TbyjBMsJ7Gd2"
      },
      "execution_count": null,
      "outputs": []
    },
    {
      "cell_type": "code",
      "source": [
        "\n",
        "full_dataset = datasets.ImageFolder(root=data_dir, transform=transform)\n",
        "class_names = full_dataset.classes\n",
        "num_classes = len(class_names)\n"
      ],
      "metadata": {
        "id": "xyPI_ks47I5U"
      },
      "execution_count": null,
      "outputs": []
    },
    {
      "cell_type": "code",
      "source": [
        "val_size = int(val_split * len(full_dataset))\n",
        "train_size = len(full_dataset) - val_size\n",
        "train_ds, val_ds = random_split(full_dataset, [train_size, val_size])\n"
      ],
      "metadata": {
        "id": "PXFa_-qn7MKb"
      },
      "execution_count": null,
      "outputs": []
    },
    {
      "cell_type": "code",
      "source": [
        "\n",
        "train_loader = DataLoader(train_ds, batch_size=batch_size, shuffle=True, pin_memory=True)\n",
        "val_loader = DataLoader(val_ds, batch_size=batch_size, shuffle=False, pin_memory=True)\n",
        "\n"
      ],
      "metadata": {
        "id": "vxS9UWyd7O_7"
      },
      "execution_count": null,
      "outputs": []
    },
    {
      "cell_type": "code",
      "source": [
        "\n",
        "# ─── CNN Model ─────────────────────────────────────────────────────────\n",
        "class ChestXRayCNN(nn.Module):\n",
        "    def __init__(self, num_classes):\n",
        "        super().__init__()\n",
        "        self.conv = nn.Sequential(\n",
        "            nn.Conv2d(1, 16, 3, padding=1), nn.ReLU(), nn.MaxPool2d(2),\n",
        "            nn.Conv2d(16, 32, 3, padding=1), nn.ReLU(), nn.MaxPool2d(2),\n",
        "            nn.Conv2d(32, 64, 3, padding=1), nn.ReLU(), nn.MaxPool2d(2),\n",
        "        )\n",
        "        self.classifier = nn.Sequential(\n",
        "            nn.Flatten(),\n",
        "            nn.Linear(64 * 28 * 28, 256),\n",
        "            nn.ReLU(), nn.Dropout(0.5),\n",
        "            nn.Linear(256, num_classes)\n",
        "        )\n",
        "\n",
        "    def forward(self, x):\n",
        "        x = self.conv(x)\n",
        "        return self.classifier(x)\n",
        "\n",
        "\n",
        "model = ChestXRayCNN(num_classes).to(device)\n"
      ],
      "metadata": {
        "id": "Cj1ZM2007X-l"
      },
      "execution_count": null,
      "outputs": []
    },
    {
      "cell_type": "code",
      "source": [
        "\n",
        "\n",
        "# ─── Training Setup ─────────────────────────────────────────────────────\n",
        "criterion = nn.CrossEntropyLoss()\n",
        "optimizer = optim.Adam(model.parameters(), lr=0.001)\n",
        "\n",
        "best_val_acc = 0.0\n"
      ],
      "metadata": {
        "id": "T5FD2M-w7bh7"
      },
      "execution_count": null,
      "outputs": []
    },
    {
      "cell_type": "code",
      "source": [
        "\n",
        "# ─── Training Loop ─────────────────────────────────────────────────────\n",
        "for epoch in range(num_epochs):\n",
        "    print(f\"Epoch {epoch+1}/{num_epochs}\")\n",
        "    for phase in ['train', 'val']:\n",
        "        model.train() if phase == 'train' else model.eval()\n",
        "        loader = train_loader if phase == 'train' else val_loader\n",
        "\n",
        "        running_loss = 0.0\n",
        "        correct_preds = 0\n",
        "\n",
        "        for inputs, labels in loader:\n",
        "            inputs, labels = inputs.to(device), labels.to(device)\n",
        "            optimizer.zero_grad()\n",
        "            with torch.set_grad_enabled(phase == 'train'):\n",
        "                outputs = model(inputs)\n",
        "                loss = criterion(outputs, labels)\n",
        "                preds = torch.argmax(outputs, 1)\n",
        "                if phase == 'train':\n",
        "                    loss.backward()\n",
        "                    optimizer.step()\n",
        "\n",
        "            running_loss += loss.item() * inputs.size(0)\n",
        "            correct_preds += torch.sum(preds == labels)\n",
        "\n",
        "        epoch_loss = running_loss / len(loader.dataset)\n",
        "        epoch_acc = correct_preds.double() / len(loader.dataset)\n",
        "        print(f\"{phase.capitalize()} Loss: {epoch_loss:.4f} | Acc: {epoch_acc:.4f}\")\n",
        "\n",
        "        if phase == 'val' and epoch_acc > best_val_acc:\n",
        "            best_val_acc = epoch_acc\n",
        "            best_model_state = model.state_dict().copy()\n"
      ],
      "metadata": {
        "colab": {
          "base_uri": "https://localhost:8080/"
        },
        "id": "jGdX641G7gMD",
        "outputId": "0bac58d7-46b3-4069-f114-1f13eaf38a75"
      },
      "execution_count": null,
      "outputs": [
        {
          "output_type": "stream",
          "name": "stdout",
          "text": [
            "Epoch 1/100\n"
          ]
        }
      ]
    },
    {
      "cell_type": "code",
      "source": [
        "# Load best weights\n",
        "model.load_state_dict(best_model_state)"
      ],
      "metadata": {
        "id": "wiJej-D17jaB"
      },
      "execution_count": null,
      "outputs": []
    },
    {
      "cell_type": "code",
      "source": [
        "# ─── Evaluation ─────────────────────────────────────────────────────────\n",
        "model.eval()\n",
        "all_preds, all_labels = [], []"
      ],
      "metadata": {
        "id": "m3IhMUC67tM4"
      },
      "execution_count": null,
      "outputs": []
    },
    {
      "cell_type": "code",
      "source": [
        "with torch.no_grad():\n",
        "    for inputs, labels in val_loader:\n",
        "        inputs, labels = inputs.to(device), labels.to(device)\n",
        "        outputs = model(inputs)\n",
        "        preds = torch.argmax(outputs, 1)\n",
        "        all_preds.extend(preds.cpu().numpy())\n",
        "        all_labels.extend(labels.cpu().numpy())"
      ],
      "metadata": {
        "id": "1G_RltyD7w4X"
      },
      "execution_count": null,
      "outputs": []
    },
    {
      "cell_type": "code",
      "source": [
        "print(\"\\nClassification Report:\")\n",
        "print(classification_report(all_labels, all_preds, target_names=class_names))\n",
        "print(\"\\nConfusion Matrix:\")\n",
        "print(confusion_matrix(all_labels, all_preds))"
      ],
      "metadata": {
        "id": "NkVfwNd37z2r"
      },
      "execution_count": null,
      "outputs": []
    },
    {
      "cell_type": "code",
      "source": [
        "# ─── Visualization ─────────────────────────────────────────────────────\n",
        "def imshow(img_tensor, title):\n",
        "    img = img_tensor.squeeze().cpu().numpy()\n",
        "    img = img * 0.5 + 0.5  # Unnormalize\n",
        "    plt.imshow(img, cmap=\"gray\")\n",
        "    plt.title(title)\n",
        "    plt.axis('off')"
      ],
      "metadata": {
        "id": "sllz3PqO72sG"
      },
      "execution_count": null,
      "outputs": []
    },
    {
      "cell_type": "code",
      "source": [
        "inputs, labels = next(iter(val_loader))\n",
        "inputs, labels = inputs.to(device), labels.to(device)\n",
        "outputs = model(inputs)\n",
        "preds = torch.argmax(outputs, 1)"
      ],
      "metadata": {
        "id": "BBToww4j75pP"
      },
      "execution_count": null,
      "outputs": []
    },
    {
      "cell_type": "code",
      "source": [
        "plt.figure(figsize=(12, 6))\n",
        "for i in range(6):\n",
        "    plt.subplot(2, 3, i+1)\n",
        "    title = f\"T: {class_names[labels[i]]} | P: {class_names[preds[i]]}\"\n",
        "    imshow(inputs[i], title)\n",
        "plt.tight_layout()\n",
        "plt.show()"
      ],
      "metadata": {
        "id": "h9vrbP1t78G7"
      },
      "execution_count": null,
      "outputs": []
    },
    {
      "cell_type": "code",
      "source": [
        "# ─── Predict a Single Image ────────────────────────────────────────────\n",
        "def predict_image(image_path, model, transform):\n",
        "    model.eval()\n",
        "    img = Image.open(image_path).convert('L')\n",
        "    img = transform(img).unsqueeze(0).to(device)\n",
        "    with torch.no_grad():\n",
        "        output = model(img)\n",
        "        pred = torch.argmax(output, 1)\n",
        "    return class_names[pred.item()]"
      ],
      "metadata": {
        "id": "0ta2A2uj7-5-"
      },
      "execution_count": null,
      "outputs": []
    },
    {
      "cell_type": "code",
      "source": [
        "# Usage:\n",
        "#result = predict_image('/content/drive/MyDrive/MGU_Workshop/Day1-FN/new/Covid/03BF7561-A9BA-4C3C-B8A0-D3E585F73F3C.jpeg', model, transform)\n",
        "result = predict_image('//content/drive/MyDrive/DL/covidData/PNEUMONIA/person142_bacteria_683.jpeg',model, transform)\n",
        "print(\"Prediction:\", result)"
      ],
      "metadata": {
        "id": "kgKenB9W8Jwd"
      },
      "execution_count": null,
      "outputs": []
    }
  ]
}